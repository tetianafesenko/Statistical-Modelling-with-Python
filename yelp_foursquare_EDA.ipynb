{
 "cells": [
  {
   "cell_type": "code",
   "execution_count": 5,
   "metadata": {},
   "outputs": [
    {
     "name": "stdout",
     "output_type": "stream",
     "text": [
      "Requirement already satisfied: geopy in /Users/tativalentine/opt/anaconda3/lib/python3.9/site-packages (2.3.0)\n",
      "Requirement already satisfied: geographiclib<3,>=1.52 in /Users/tativalentine/opt/anaconda3/lib/python3.9/site-packages (from geopy) (2.0)\n",
      "Requirement already satisfied: folium==0.5.0 in /Users/tativalentine/opt/anaconda3/lib/python3.9/site-packages (0.5.0)\n",
      "Requirement already satisfied: requests in /Users/tativalentine/opt/anaconda3/lib/python3.9/site-packages (from folium==0.5.0) (2.28.1)\n",
      "Requirement already satisfied: six in /Users/tativalentine/opt/anaconda3/lib/python3.9/site-packages (from folium==0.5.0) (1.16.0)\n",
      "Requirement already satisfied: jinja2 in /Users/tativalentine/opt/anaconda3/lib/python3.9/site-packages (from folium==0.5.0) (2.11.3)\n",
      "Requirement already satisfied: branca in /Users/tativalentine/opt/anaconda3/lib/python3.9/site-packages (from folium==0.5.0) (0.6.0)\n",
      "Requirement already satisfied: MarkupSafe>=0.23 in /Users/tativalentine/opt/anaconda3/lib/python3.9/site-packages (from jinja2->folium==0.5.0) (2.0.1)\n",
      "Requirement already satisfied: certifi>=2017.4.17 in /Users/tativalentine/opt/anaconda3/lib/python3.9/site-packages (from requests->folium==0.5.0) (2022.9.24)\n",
      "Requirement already satisfied: urllib3<1.27,>=1.21.1 in /Users/tativalentine/opt/anaconda3/lib/python3.9/site-packages (from requests->folium==0.5.0) (1.26.11)\n",
      "Requirement already satisfied: charset-normalizer<3,>=2 in /Users/tativalentine/opt/anaconda3/lib/python3.9/site-packages (from requests->folium==0.5.0) (2.0.4)\n",
      "Requirement already satisfied: idna<4,>=2.5 in /Users/tativalentine/opt/anaconda3/lib/python3.9/site-packages (from requests->folium==0.5.0) (3.3)\n",
      "Folium installed\n",
      "Libraries imported.\n"
     ]
    }
   ],
   "source": [
    "import requests # library to handle requests\n",
    "import pandas as pd # library for data analysis\n",
    "import numpy as np # library to handle data in a vectorized manner\n",
    "import random # library for random number generation\n",
    "\n",
    "!pip install geopy\n",
    "from geopy.geocoders import Nominatim # module to convert an address into latitude and longitude values\n",
    "\n",
    "# libraries for displaying images\n",
    "from IPython.display import Image \n",
    "from IPython.core.display import HTML \n",
    "    \n",
    "# tranforming json file into a pandas dataframe library\n",
    "from pandas.io.json import json_normalize\n",
    "\n",
    "! pip install folium==0.5.0\n",
    "import folium # plotting library\n",
    "\n",
    "print('Folium installed')\n",
    "print('Libraries imported.')"
   ]
  },
  {
   "cell_type": "markdown",
   "metadata": {},
   "source": [
    "# Foursquare"
   ]
  },
  {
   "cell_type": "markdown",
   "metadata": {},
   "source": [
    "Send a request to Foursquare with a small radius (1000m) for all the bike stations in your city of choice. "
   ]
  },
  {
   "cell_type": "code",
   "execution_count": 6,
   "metadata": {},
   "outputs": [
    {
     "name": "stdout",
     "output_type": "stream",
     "text": [
      "Your credentails:\n",
      "CLIENT_ID: U0YRC25UFQQXCML51BQIAVOHH3GIR4J2LSISOSPY4PRP4U1J\n",
      "CLIENT_SECRET:S2CKFPHFDXCVWO4UI02A20OMLSRF2VRJI02G53BALGXZVI2A\n"
     ]
    }
   ],
   "source": [
    "CLIENT_ID = 'U0YRC25UFQQXCML51BQIAVOHH3GIR4J2LSISOSPY4PRP4U1J' # your Foursquare ID\n",
    "CLIENT_SECRET = 'S2CKFPHFDXCVWO4UI02A20OMLSRF2VRJI02G53BALGXZVI2A' # your Foursquare Secret\n",
    "ACCESS_TOKEN = 'fsq3EWjrDVS7MmpNxPS2oYo9CdBphNOQ/lOuCT1N7N4xCzo=' # your FourSquare Access Token\n",
    "VERSION = '20221205'\n",
    "LIMIT = 100\n",
    "print('Your credentails:')\n",
    "print('CLIENT_ID: ' + CLIENT_ID)\n",
    "print('CLIENT_SECRET:' + CLIENT_SECRET)"
   ]
  },
  {
   "cell_type": "code",
   "execution_count": 7,
   "metadata": {},
   "outputs": [
    {
     "name": "stdout",
     "output_type": "stream",
     "text": [
      "51.2162206 4.421068612450207\n"
     ]
    }
   ],
   "source": [
    "address = 'Koningin Astridplein 27, 2018 Antwerpen, Belgium'\n",
    "\n",
    "geolocator = Nominatim(user_agent=\"foursquare_agent\")\n",
    "location = geolocator.geocode(address)\n",
    "latitude = location.latitude\n",
    "longitude = location.longitude\n",
    "print(latitude, longitude)"
   ]
  },
  {
   "cell_type": "markdown",
   "metadata": {},
   "source": [
    "Parse through the response to get the POI (such as restaurants, bars, etc) details you want (ratings, name, location, etc)"
   ]
  },
  {
   "cell_type": "code",
   "execution_count": null,
   "metadata": {},
   "outputs": [],
   "source": [
    "import requests\n",
    "\n",
    "url = \"https://api.foursquare.com/v3/places/search\"\n",
    "\n",
    "params = {\n",
    "  \t\"query\": \"coffee\",\n",
    "    #\"open_now\": \"true\",\n",
    "  \t\"ll\": \"51.2162206,4.421068612450207\",\n",
    "  \t\"sort\":\"DISTANCE\"\n",
    "}\n",
    "\n",
    "headers = {\n",
    "    \"Accept\": \"application/json\",\n",
    "    \"Authorization\": \"fsq3EWjrDVS7MmpNxPS2oYo9CdBphNOQ/lOuCT1N7N4xCzo=\"\n",
    "}\n",
    "\n",
    "response = requests.request(\"GET\", url, params=params, headers=headers)\n",
    "\n",
    "print(response.text)\n",
    "response"
   ]
  },
  {
   "cell_type": "markdown",
   "metadata": {},
   "source": [
    "Put your parsed results into a DataFrame"
   ]
  },
  {
   "cell_type": "code",
   "execution_count": 9,
   "metadata": {},
   "outputs": [
    {
     "data": {
      "text/plain": [
       "{'results': [{'fsq_id': '4b22cec2f964a520e94d24e3',\n",
       "   'categories': [{'id': 13035,\n",
       "     'name': 'Coffee Shop',\n",
       "     'icon': {'prefix': 'https://ss3.4sqi.net/img/categories_v2/food/coffeeshop_',\n",
       "      'suffix': '.png'}},\n",
       "    {'id': 13065,\n",
       "     'name': 'Restaurant',\n",
       "     'icon': {'prefix': 'https://ss3.4sqi.net/img/categories_v2/food/default_',\n",
       "      'suffix': '.png'}}],\n",
       "   'chains': [],\n",
       "   'distance': 90,\n",
       "   'geocodes': {'main': {'latitude': 51.216964, 'longitude': 4.42074},\n",
       "    'roof': {'latitude': 51.216964, 'longitude': 4.42074}},\n",
       "   'link': '/v3/places/4b22cec2f964a520e94d24e3',\n",
       "   'location': {'address': 'Koningin Astridplein 27',\n",
       "    'country': 'BE',\n",
       "    'cross_street': '',\n",
       "    'formatted_address': 'Koningin Astridplein 27, 2018 Antwerpen',\n",
       "    'locality': 'Antwerp',\n",
       "    'postcode': '2018',\n",
       "    'region': 'Antwerp'},\n",
       "   'name': 'Starbucks',\n",
       "   'related_places': {'parent': {'fsq_id': '4b27b784f964a520de8824e3',\n",
       "     'name': 'Station Antwerpen-Centraal'}},\n",
       "   'timezone': 'Europe/Brussels'},\n",
       "  {'fsq_id': '4d15ca80bb64224bf59db665',\n",
       "   'categories': [{'id': 13034,\n",
       "     'name': 'Café',\n",
       "     'icon': {'prefix': 'https://ss3.4sqi.net/img/categories_v2/food/cafe_',\n",
       "      'suffix': '.png'}},\n",
       "    {'id': 13065,\n",
       "     'name': 'Restaurant',\n",
       "     'icon': {'prefix': 'https://ss3.4sqi.net/img/categories_v2/food/default_',\n",
       "      'suffix': '.png'}}],\n",
       "   'chains': [],\n",
       "   'distance': 141,\n",
       "   'geocodes': {'main': {'latitude': 51.217052, 'longitude': 4.422438},\n",
       "    'roof': {'latitude': 51.217052, 'longitude': 4.422438}},\n",
       "   'link': '/v3/places/4d15ca80bb64224bf59db665',\n",
       "   'location': {'address': 'Koningin Astridplein 26',\n",
       "    'country': 'BE',\n",
       "    'cross_street': '',\n",
       "    'formatted_address': 'Koningin Astridplein 26, 2018 Antwerpen',\n",
       "    'locality': 'Antwerp',\n",
       "    'postcode': '2018',\n",
       "    'region': 'Antwerp'},\n",
       "   'name': 'Grand Café Flamingo',\n",
       "   'related_places': {'parent': {'fsq_id': '4b308224f964a520f0f924e3',\n",
       "     'name': 'ZOO Antwerpen'}},\n",
       "   'timezone': 'Europe/Brussels'},\n",
       "  {'fsq_id': '5a16baa69deb7d6215f2797c',\n",
       "   'categories': [{'id': 13035,\n",
       "     'name': 'Coffee Shop',\n",
       "     'icon': {'prefix': 'https://ss3.4sqi.net/img/categories_v2/food/coffeeshop_',\n",
       "      'suffix': '.png'}},\n",
       "    {'id': 13065,\n",
       "     'name': 'Restaurant',\n",
       "     'icon': {'prefix': 'https://ss3.4sqi.net/img/categories_v2/food/default_',\n",
       "      'suffix': '.png'}}],\n",
       "   'chains': [],\n",
       "   'distance': 161,\n",
       "   'geocodes': {'main': {'latitude': 51.214682, 'longitude': 4.420761},\n",
       "    'roof': {'latitude': 51.214682, 'longitude': 4.420761}},\n",
       "   'link': '/v3/places/5a16baa69deb7d6215f2797c',\n",
       "   'location': {'address': 'Pelikaanstraat 3/1270',\n",
       "    'country': 'BE',\n",
       "    'cross_street': '',\n",
       "    'formatted_address': 'Pelikaanstraat 3/1270, 2018 Antwerpen',\n",
       "    'locality': 'Antwerp',\n",
       "    'postcode': '2018',\n",
       "    'region': 'Antwerp'},\n",
       "   'name': 'The Playground',\n",
       "   'related_places': {'parent': {'fsq_id': '4b27b784f964a520de8824e3',\n",
       "     'name': 'Station Antwerpen-Centraal'}},\n",
       "   'timezone': 'Europe/Brussels'},\n",
       "  {'fsq_id': '4b7e7f71f964a5209def2fe3',\n",
       "   'categories': [{'id': 13034,\n",
       "     'name': 'Café',\n",
       "     'icon': {'prefix': 'https://ss3.4sqi.net/img/categories_v2/food/cafe_',\n",
       "      'suffix': '.png'}},\n",
       "    {'id': 13077,\n",
       "     'name': 'Belgian Restaurant',\n",
       "     'icon': {'prefix': 'https://ss3.4sqi.net/img/categories_v2/food/default_',\n",
       "      'suffix': '.png'}},\n",
       "    {'id': 13152,\n",
       "     'name': 'Brasserie',\n",
       "     'icon': {'prefix': 'https://ss3.4sqi.net/img/categories_v2/food/french_',\n",
       "      'suffix': '.png'}}],\n",
       "   'chains': [],\n",
       "   'distance': 185,\n",
       "   'geocodes': {'main': {'latitude': 51.217777, 'longitude': 4.421458},\n",
       "    'roof': {'latitude': 51.217777, 'longitude': 4.421458}},\n",
       "   'link': '/v3/places/4b7e7f71f964a5209def2fe3',\n",
       "   'location': {'address': 'Koningin Astridplein 25',\n",
       "    'country': 'BE',\n",
       "    'formatted_address': 'Koningin Astridplein 25, 2018 Antwerpen',\n",
       "    'locality': 'Antwerp',\n",
       "    'neighborhood': ['Centraal Station'],\n",
       "    'postcode': '2018',\n",
       "    'region': 'Antwerp'},\n",
       "   'name': 'Paon Royal',\n",
       "   'related_places': {},\n",
       "   'timezone': 'Europe/Brussels'},\n",
       "  {'fsq_id': '4d289ede915fa093fe9ffe09',\n",
       "   'categories': [{'id': 13003,\n",
       "     'name': 'Bar',\n",
       "     'icon': {'prefix': 'https://ss3.4sqi.net/img/categories_v2/nightlife/pub_',\n",
       "      'suffix': '.png'}},\n",
       "    {'id': 13034,\n",
       "     'name': 'Café',\n",
       "     'icon': {'prefix': 'https://ss3.4sqi.net/img/categories_v2/food/cafe_',\n",
       "      'suffix': '.png'}},\n",
       "    {'id': 13077,\n",
       "     'name': 'Belgian Restaurant',\n",
       "     'icon': {'prefix': 'https://ss3.4sqi.net/img/categories_v2/food/default_',\n",
       "      'suffix': '.png'}}],\n",
       "   'chains': [],\n",
       "   'distance': 192,\n",
       "   'geocodes': {'main': {'latitude': 51.217272, 'longitude': 4.418962},\n",
       "    'roof': {'latitude': 51.217272, 'longitude': 4.418962}},\n",
       "   'link': '/v3/places/4d289ede915fa093fe9ffe09',\n",
       "   'location': {'address': 'De Keyserlei 58',\n",
       "    'country': 'BE',\n",
       "    'formatted_address': 'De Keyserlei 58, 2018 Antwerpen',\n",
       "    'locality': 'Antwerp',\n",
       "    'postcode': '2018',\n",
       "    'region': 'Antwerp'},\n",
       "   'name': 'Big Apple',\n",
       "   'related_places': {},\n",
       "   'timezone': 'Europe/Brussels'},\n",
       "  {'fsq_id': '5314bc71498e8132766c686b',\n",
       "   'categories': [{'id': 13003,\n",
       "     'name': 'Bar',\n",
       "     'icon': {'prefix': 'https://ss3.4sqi.net/img/categories_v2/nightlife/pub_',\n",
       "      'suffix': '.png'}},\n",
       "    {'id': 13035,\n",
       "     'name': 'Coffee Shop',\n",
       "     'icon': {'prefix': 'https://ss3.4sqi.net/img/categories_v2/food/coffeeshop_',\n",
       "      'suffix': '.png'}},\n",
       "    {'id': 13065,\n",
       "     'name': 'Restaurant',\n",
       "     'icon': {'prefix': 'https://ss3.4sqi.net/img/categories_v2/food/default_',\n",
       "      'suffix': '.png'}}],\n",
       "   'chains': [],\n",
       "   'distance': 220,\n",
       "   'geocodes': {'main': {'latitude': 51.218149, 'longitude': 4.4205},\n",
       "    'roof': {'latitude': 51.218149, 'longitude': 4.4205}},\n",
       "   'link': '/v3/places/5314bc71498e8132766c686b',\n",
       "   'location': {'address': 'Astridplein 37',\n",
       "    'country': 'BE',\n",
       "    'cross_street': '',\n",
       "    'formatted_address': 'Astridplein 37, 2018 Antwerpen',\n",
       "    'locality': 'Antwerp',\n",
       "    'postcode': '2018',\n",
       "    'region': 'Antwerp'},\n",
       "   'name': 'Mocambo Coffee',\n",
       "   'related_places': {},\n",
       "   'timezone': 'Europe/Brussels'},\n",
       "  {'fsq_id': '5ad34c0bc8b2fb10ead595bd',\n",
       "   'categories': [{'id': 13035,\n",
       "     'name': 'Coffee Shop',\n",
       "     'icon': {'prefix': 'https://ss3.4sqi.net/img/categories_v2/food/coffeeshop_',\n",
       "      'suffix': '.png'}}],\n",
       "   'chains': [],\n",
       "   'distance': 310,\n",
       "   'geocodes': {'main': {'latitude': 51.219087, 'longitude': 4.421389},\n",
       "    'roof': {'latitude': 51.219087, 'longitude': 4.421389}},\n",
       "   'link': '/v3/places/5ad34c0bc8b2fb10ead595bd',\n",
       "   'location': {'address': 'Koningin Astridplein 7',\n",
       "    'country': 'BE',\n",
       "    'cross_street': '',\n",
       "    'formatted_address': 'Koningin Astridplein 7, 2018 Antwerpen',\n",
       "    'locality': 'Antwerp',\n",
       "    'postcode': '2018',\n",
       "    'region': 'Antwerp'},\n",
       "   'name': 'Starbucks',\n",
       "   'related_places': {'parent': {'fsq_id': '509e3aafe4b0ab175341d460',\n",
       "     'name': 'Radisson Blu Astrid Hotel, Antwerp'}},\n",
       "   'timezone': 'Europe/Brussels'},\n",
       "  {'fsq_id': '4c77db8bb4b4b60c45e3280e',\n",
       "   'categories': [{'id': 13034,\n",
       "     'name': 'Café',\n",
       "     'icon': {'prefix': 'https://ss3.4sqi.net/img/categories_v2/food/cafe_',\n",
       "      'suffix': '.png'}},\n",
       "    {'id': 13065,\n",
       "     'name': 'Restaurant',\n",
       "     'icon': {'prefix': 'https://ss3.4sqi.net/img/categories_v2/food/default_',\n",
       "      'suffix': '.png'}}],\n",
       "   'chains': [],\n",
       "   'distance': 310,\n",
       "   'geocodes': {'main': {'latitude': 51.218953, 'longitude': 4.420436},\n",
       "    'roof': {'latitude': 51.218953, 'longitude': 4.420436}},\n",
       "   'link': '/v3/places/4c77db8bb4b4b60c45e3280e',\n",
       "   'location': {'address': 'Koningin Astridplein 45',\n",
       "    'country': 'BE',\n",
       "    'cross_street': '',\n",
       "    'formatted_address': 'Koningin Astridplein 45, 2018 Antwerpen',\n",
       "    'locality': 'Antwerp',\n",
       "    'neighborhood': ['Centraal Station'],\n",
       "    'postcode': '2018',\n",
       "    'region': 'Antwerp'},\n",
       "   'name': 'Café Jozef',\n",
       "   'related_places': {},\n",
       "   'timezone': 'Europe/Brussels'},\n",
       "  {'fsq_id': '5ba55527898bdc002cbcb868',\n",
       "   'categories': [{'id': 13035,\n",
       "     'name': 'Coffee Shop',\n",
       "     'icon': {'prefix': 'https://ss3.4sqi.net/img/categories_v2/food/coffeeshop_',\n",
       "      'suffix': '.png'}},\n",
       "    {'id': 13065,\n",
       "     'name': 'Restaurant',\n",
       "     'icon': {'prefix': 'https://ss3.4sqi.net/img/categories_v2/food/default_',\n",
       "      'suffix': '.png'}}],\n",
       "   'chains': [],\n",
       "   'distance': 327,\n",
       "   'geocodes': {'main': {'latitude': 51.215498, 'longitude': 4.425449},\n",
       "    'roof': {'latitude': 51.215498, 'longitude': 4.425449}},\n",
       "   'link': '/v3/places/5ba55527898bdc002cbcb868',\n",
       "   'location': {'address': 'Provinciestraat 82 Giraffenplein',\n",
       "    'country': 'BE',\n",
       "    'cross_street': '',\n",
       "    'formatted_address': 'Provinciestraat 82 Giraffenplein, 2018 Antwerpen',\n",
       "    'locality': 'Antwerp',\n",
       "    'postcode': '2018',\n",
       "    'region': 'Antwerp'},\n",
       "   'name': 'Vitesse Coffee & Cycling',\n",
       "   'related_places': {},\n",
       "   'timezone': 'Europe/Brussels'},\n",
       "  {'fsq_id': '5629f7dc498efcaed2dc4715',\n",
       "   'categories': [{'id': 13034,\n",
       "     'name': 'Café',\n",
       "     'icon': {'prefix': 'https://ss3.4sqi.net/img/categories_v2/food/cafe_',\n",
       "      'suffix': '.png'}}],\n",
       "   'chains': [],\n",
       "   'distance': 468,\n",
       "   'geocodes': {'main': {'latitude': 51.218078, 'longitude': 4.41502}},\n",
       "   'link': '/v3/places/5629f7dc498efcaed2dc4715',\n",
       "   'location': {'country': 'BE', 'cross_street': '', 'formatted_address': ''},\n",
       "   'name': 'Pop-up PA.RI.S',\n",
       "   'related_places': {},\n",
       "   'timezone': 'Europe/Brussels'}],\n",
       " 'context': {'geo_bounds': {'circle': {'center': {'latitude': 51.2162206,\n",
       "     'longitude': 4.421068612450207},\n",
       "    'radius': 22000}}}}"
      ]
     },
     "execution_count": 9,
     "metadata": {},
     "output_type": "execute_result"
    }
   ],
   "source": [
    "res_json = response.json()\n",
    "res_json"
   ]
  },
  {
   "cell_type": "code",
   "execution_count": 10,
   "metadata": {},
   "outputs": [
    {
     "data": {
      "text/html": [
       "<div>\n",
       "<style scoped>\n",
       "    .dataframe tbody tr th:only-of-type {\n",
       "        vertical-align: middle;\n",
       "    }\n",
       "\n",
       "    .dataframe tbody tr th {\n",
       "        vertical-align: top;\n",
       "    }\n",
       "\n",
       "    .dataframe thead th {\n",
       "        text-align: right;\n",
       "    }\n",
       "</style>\n",
       "<table border=\"1\" class=\"dataframe\">\n",
       "  <thead>\n",
       "    <tr style=\"text-align: right;\">\n",
       "      <th></th>\n",
       "      <th>results</th>\n",
       "      <th>context.geo_bounds.circle.center.latitude</th>\n",
       "      <th>context.geo_bounds.circle.center.longitude</th>\n",
       "      <th>context.geo_bounds.circle.radius</th>\n",
       "    </tr>\n",
       "  </thead>\n",
       "  <tbody>\n",
       "    <tr>\n",
       "      <th>0</th>\n",
       "      <td>[{'fsq_id': '4b22cec2f964a520e94d24e3', 'categ...</td>\n",
       "      <td>51.216221</td>\n",
       "      <td>4.421069</td>\n",
       "      <td>22000</td>\n",
       "    </tr>\n",
       "  </tbody>\n",
       "</table>\n",
       "</div>"
      ],
      "text/plain": [
       "                                             results  \\\n",
       "0  [{'fsq_id': '4b22cec2f964a520e94d24e3', 'categ...   \n",
       "\n",
       "   context.geo_bounds.circle.center.latitude  \\\n",
       "0                                  51.216221   \n",
       "\n",
       "   context.geo_bounds.circle.center.longitude  \\\n",
       "0                                    4.421069   \n",
       "\n",
       "   context.geo_bounds.circle.radius  \n",
       "0                             22000  "
      ]
     },
     "execution_count": 10,
     "metadata": {},
     "output_type": "execute_result"
    }
   ],
   "source": [
    "fs_df = pd.json_normalize(res_json)\n",
    "fs_df.head(2)"
   ]
  },
  {
   "cell_type": "code",
   "execution_count": null,
   "metadata": {},
   "outputs": [],
   "source": [
    "fs_df['geocodes.main.latitude'].nunique()"
   ]
  },
  {
   "cell_type": "code",
   "execution_count": null,
   "metadata": {},
   "outputs": [],
   "source": [
    "len(res_json)"
   ]
  },
  {
   "cell_type": "code",
   "execution_count": null,
   "metadata": {},
   "outputs": [],
   "source": [
    "results.keys()"
   ]
  },
  {
   "cell_type": "code",
   "execution_count": null,
   "metadata": {},
   "outputs": [],
   "source": [
    "data = response.json()\n",
    "data[\"results\"][1][\"name\"]"
   ]
  },
  {
   "cell_type": "code",
   "execution_count": null,
   "metadata": {},
   "outputs": [],
   "source": [
    "len(data)"
   ]
  },
  {
   "cell_type": "code",
   "execution_count": null,
   "metadata": {},
   "outputs": [],
   "source": [
    "data.keys()"
   ]
  },
  {
   "cell_type": "code",
   "execution_count": null,
   "metadata": {},
   "outputs": [],
   "source": [
    "for i in range (0,10):\n",
    "    print(data[\"results\"][i][\"name\"])"
   ]
  },
  {
   "cell_type": "markdown",
   "metadata": {},
   "source": [
    "# Yelp"
   ]
  },
  {
   "cell_type": "markdown",
   "metadata": {},
   "source": [
    "Send a request to Yelp with a small radius (1000m) for all the bike stations in your city of choice. "
   ]
  },
  {
   "cell_type": "code",
   "execution_count": 12,
   "metadata": {},
   "outputs": [],
   "source": [
    "import requests\n",
    "import json\n",
    "import pandas as pd\n",
    "import json\n",
    "import requests\n",
    "import scipy as sp\n",
    "from datetime import datetime\n",
    "\n",
    "import seaborn as sns\n",
    "import matplotlib.pyplot as plt\n",
    "import numpy as np"
   ]
  },
  {
   "cell_type": "markdown",
   "metadata": {},
   "source": [
    "Parse through the response to get the POI (such as restaurants, bars, etc) details you want (ratings, name, location, etc)"
   ]
  },
  {
   "cell_type": "code",
   "execution_count": 13,
   "metadata": {},
   "outputs": [],
   "source": [
    "api_key='HQroL6ytG5N3erZTbXQLhbzFp8O7__8QRU0pjSs95CYb4DcaryRxbXgfNaU2pi2LdPnT4J6puxatRShMU2SSAobf2PbLzSGcq_KmUadaFecOppG6gQcWqbfrqT2OY3Yx'\n",
    "headers = {'Authorization': 'Bearer %s' % api_key}"
   ]
  },
  {
   "cell_type": "code",
   "execution_count": 14,
   "metadata": {},
   "outputs": [],
   "source": [
    "url='https://api.yelp.com/v3/businesses/search'\n",
    " \n",
    "# In the dictionary, term can take values like food, cafes or businesses like McDonalds\n",
    "params = {'term':'coffee','location':'Koningin Astridplein 27, 2018 Antwerpen, Belgium'}"
   ]
  },
  {
   "cell_type": "code",
   "execution_count": 15,
   "metadata": {},
   "outputs": [
    {
     "name": "stdout",
     "output_type": "stream",
     "text": [
      "The status code is 200\n"
     ]
    }
   ],
   "source": [
    "# Making a get request to the API\n",
    "req=requests.get(url, params=params, headers=headers)\n",
    " \n",
    "# proceed only if the status code is 200\n",
    "print('The status code is {}'.format(req.status_code))"
   ]
  },
  {
   "cell_type": "code",
   "execution_count": 16,
   "metadata": {},
   "outputs": [],
   "source": [
    "# printing the text from the response \n",
    "json.loads(req.text)\n",
    "data = json.loads(req.text)"
   ]
  },
  {
   "cell_type": "code",
   "execution_count": 17,
   "metadata": {},
   "outputs": [
    {
     "data": {
      "text/plain": [
       "'Caffènation'"
      ]
     },
     "execution_count": 17,
     "metadata": {},
     "output_type": "execute_result"
    }
   ],
   "source": [
    "data[\"businesses\"][1][\"name\"]"
   ]
  },
  {
   "cell_type": "code",
   "execution_count": 18,
   "metadata": {},
   "outputs": [
    {
     "data": {
      "text/plain": [
       "3"
      ]
     },
     "execution_count": 18,
     "metadata": {},
     "output_type": "execute_result"
    }
   ],
   "source": [
    "len(data)"
   ]
  },
  {
   "cell_type": "code",
   "execution_count": 19,
   "metadata": {},
   "outputs": [
    {
     "data": {
      "text/plain": [
       "dict_keys(['businesses', 'total', 'region'])"
      ]
     },
     "execution_count": 19,
     "metadata": {},
     "output_type": "execute_result"
    }
   ],
   "source": [
    "data.keys()"
   ]
  },
  {
   "cell_type": "code",
   "execution_count": 20,
   "metadata": {},
   "outputs": [
    {
     "data": {
      "text/plain": [
       "20"
      ]
     },
     "execution_count": 20,
     "metadata": {},
     "output_type": "execute_result"
    }
   ],
   "source": [
    "len(data[\"businesses\"])"
   ]
  },
  {
   "cell_type": "code",
   "execution_count": 21,
   "metadata": {},
   "outputs": [
    {
     "name": "stdout",
     "output_type": "stream",
     "text": [
      "Cuperus Koffie\n",
      "Caffènation\n",
      "Normo Coffeebar\n",
      "Mocambo Coffee\n",
      "Esco Bar\n",
      "Viggo's\n",
      "The Playground\n",
      "Kaffeenini\n",
      "Caffe Mundi\n",
      "Glow\n",
      "Einstein Coffee\n",
      "Jam\n",
      "Me & My Monkey\n",
      "Vandoag is't\n",
      "Kornél\n",
      "Frits\n",
      "Jozef\n",
      "Barnini\n",
      "Belmondo\n",
      "Cuperus\n"
     ]
    }
   ],
   "source": [
    "for i in range (0,20):\n",
    "    print(data[\"businesses\"][i][\"name\"])"
   ]
  },
  {
   "cell_type": "code",
   "execution_count": 22,
   "metadata": {},
   "outputs": [
    {
     "data": {
      "text/html": [
       "<div>\n",
       "<style scoped>\n",
       "    .dataframe tbody tr th:only-of-type {\n",
       "        vertical-align: middle;\n",
       "    }\n",
       "\n",
       "    .dataframe tbody tr th {\n",
       "        vertical-align: top;\n",
       "    }\n",
       "\n",
       "    .dataframe thead th {\n",
       "        text-align: right;\n",
       "    }\n",
       "</style>\n",
       "<table border=\"1\" class=\"dataframe\">\n",
       "  <thead>\n",
       "    <tr style=\"text-align: right;\">\n",
       "      <th></th>\n",
       "      <th>businesses</th>\n",
       "      <th>total</th>\n",
       "      <th>region.center.longitude</th>\n",
       "      <th>region.center.latitude</th>\n",
       "    </tr>\n",
       "  </thead>\n",
       "  <tbody>\n",
       "    <tr>\n",
       "      <th>0</th>\n",
       "      <td>[{'id': 'k6QHwVA8LOfMuTmdMiTvng', 'alias': 'cu...</td>\n",
       "      <td>344</td>\n",
       "      <td>4.420624</td>\n",
       "      <td>51.21698</td>\n",
       "    </tr>\n",
       "  </tbody>\n",
       "</table>\n",
       "</div>"
      ],
      "text/plain": [
       "                                          businesses  total  \\\n",
       "0  [{'id': 'k6QHwVA8LOfMuTmdMiTvng', 'alias': 'cu...    344   \n",
       "\n",
       "   region.center.longitude  region.center.latitude  \n",
       "0                 4.420624                51.21698  "
      ]
     },
     "execution_count": 22,
     "metadata": {},
     "output_type": "execute_result"
    }
   ],
   "source": [
    "pd.json_normalize(data)"
   ]
  },
  {
   "cell_type": "code",
   "execution_count": 26,
   "metadata": {},
   "outputs": [
    {
     "data": {
      "text/html": [
       "<div>\n",
       "<style scoped>\n",
       "    .dataframe tbody tr th:only-of-type {\n",
       "        vertical-align: middle;\n",
       "    }\n",
       "\n",
       "    .dataframe tbody tr th {\n",
       "        vertical-align: top;\n",
       "    }\n",
       "\n",
       "    .dataframe thead th {\n",
       "        text-align: right;\n",
       "    }\n",
       "</style>\n",
       "<table border=\"1\" class=\"dataframe\">\n",
       "  <thead>\n",
       "    <tr style=\"text-align: right;\">\n",
       "      <th></th>\n",
       "      <th>businesses</th>\n",
       "      <th>total</th>\n",
       "      <th>region.center.longitude</th>\n",
       "      <th>region.center.latitude</th>\n",
       "    </tr>\n",
       "  </thead>\n",
       "  <tbody>\n",
       "    <tr>\n",
       "      <th>0</th>\n",
       "      <td>[{'id': 'k6QHwVA8LOfMuTmdMiTvng', 'alias': 'cu...</td>\n",
       "      <td>344</td>\n",
       "      <td>4.420624</td>\n",
       "      <td>51.21698</td>\n",
       "    </tr>\n",
       "  </tbody>\n",
       "</table>\n",
       "</div>"
      ],
      "text/plain": [
       "                                          businesses  total  \\\n",
       "0  [{'id': 'k6QHwVA8LOfMuTmdMiTvng', 'alias': 'cu...    344   \n",
       "\n",
       "   region.center.longitude  region.center.latitude  \n",
       "0                 4.420624                51.21698  "
      ]
     },
     "execution_count": 26,
     "metadata": {},
     "output_type": "execute_result"
    }
   ],
   "source": [
    "yelp_df = pd.json_normalize(data)\n",
    "yelp_df.head(2)"
   ]
  },
  {
   "cell_type": "markdown",
   "metadata": {},
   "source": [
    "Put your parsed results into a DataFrame"
   ]
  },
  {
   "cell_type": "markdown",
   "metadata": {},
   "source": [
    "# Comparing Results"
   ]
  },
  {
   "cell_type": "markdown",
   "metadata": {},
   "source": [
    "Conclusion: Yelp Provided more details, 10 more places than Foursquare. Working with Yelp was much easier and took me less time. If I have to ever chose one,I would go with Yelp API"
   ]
  },
  {
   "cell_type": "markdown",
   "metadata": {},
   "source": [
    "Get the top 10 restaurants according to their rating"
   ]
  },
  {
   "cell_type": "code",
   "execution_count": null,
   "metadata": {},
   "outputs": [],
   "source": [
    "Cuperus Koffie\n",
    "Caffènation\n",
    "Normo Coffeebar\n",
    "Mocambo Coffee\n",
    "Esco Bar\n",
    "Viggo's\n",
    "Kaffeenini\n",
    "Glow\n",
    "Caffe Mundi\n",
    "Kornél"
   ]
  }
 ],
 "metadata": {
  "kernelspec": {
   "display_name": "Python 3 (ipykernel)",
   "language": "python",
   "name": "python3"
  },
  "language_info": {
   "codemirror_mode": {
    "name": "ipython",
    "version": 3
   },
   "file_extension": ".py",
   "mimetype": "text/x-python",
   "name": "python",
   "nbconvert_exporter": "python",
   "pygments_lexer": "ipython3",
   "version": "3.11.0 (v3.11.0:deaf509e8f, Oct 24 2022, 14:43:23) [Clang 13.0.0 (clang-1300.0.29.30)]"
  },
  "vscode": {
   "interpreter": {
    "hash": "aee8b7b246df8f9039afb4144a1f6fd8d2ca17a180786b69acc140d282b71a49"
   }
  }
 },
 "nbformat": 4,
 "nbformat_minor": 4
}
