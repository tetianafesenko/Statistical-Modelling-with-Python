{
 "cells": [
  {
   "cell_type": "markdown",
   "metadata": {},
   "source": [
    "Join the data from Part 1 with the data from Part 2 to create a new dataframe."
   ]
  },
  {
   "cell_type": "code",
   "execution_count": null,
   "metadata": {},
   "outputs": [],
   "source": [
    "import requests # library to handle requests\n",
    "import pandas as pd # library for data analysis"
   ]
  },
  {
   "cell_type": "markdown",
   "metadata": {},
   "source": [
    "Provide a visualization that you used as part of your EDA process. Explain the initial pattern or relationship you discoved through this visualization. "
   ]
  },
  {
   "cell_type": "code",
   "execution_count": null,
   "metadata": {},
   "outputs": [],
   "source": [
    "#FourSquare API Function  \n",
    "def citybike_fetch(query, long, lat):             \n",
    "    # Set Keys                          \n",
    "    # Set Parameters for API         \n",
    "    network_id = 'velo-antwerpen'\n",
    "    bike_url = (\"http://api.citybik.es/v2/networks/\"+network_id)       \n",
    "    location = f'{long},{lat}'         \n",
    "    headers = {\n",
    "    \"Accept\": \"application/json\",\n",
    "    \"Authorization\": \"fsq3EWjrDVS7MmpNxPS2oYo9CdBphNOQ/lOuCT1N7N4xCzo=\"}\n",
    "    \n",
    "    bike_response = requests.request(\"GET\", bike_url, params={'ll':location,                                                   \n",
    "                                                      'radius':1000,                                                                                                      \n",
    "                                                      'query':query,                                                   \n",
    "                                                      \"sort\":\"DISTANCE\"},\n",
    "                                                  headers=headers) \n",
    "    \n",
    "    res_json = bike_response.json()\n",
    "    citybike_df = pd.json_normalize(res_json)\n",
    "    return citybike_df"
   ]
  },
  {
   "cell_type": "code",
   "execution_count": null,
   "metadata": {},
   "outputs": [],
   "source": [
    "response = citybike_fetch(query=\"coffee\", long=\"51.2162206\", lat=\"4.421068612450207\")"
   ]
  },
  {
   "cell_type": "markdown",
   "metadata": {},
   "source": [
    "# Database"
   ]
  },
  {
   "cell_type": "markdown",
   "metadata": {},
   "source": [
    "Put all your results in an SQLite3 database (remember, SQLite stores its databases as files in your local machine - make sure to create your database in your project's data/ directory!)"
   ]
  },
  {
   "cell_type": "code",
   "execution_count": null,
   "metadata": {},
   "outputs": [],
   "source": [
    "#Foursquare API"
   ]
  },
  {
   "cell_type": "markdown",
   "metadata": {},
   "source": [
    "Look at the data before and after the join to validate your data."
   ]
  },
  {
   "cell_type": "code",
   "execution_count": null,
   "metadata": {},
   "outputs": [],
   "source": [
    "# FourSquare API Function  \n",
    "def foursquare_fetch(query, long, lat):             \n",
    "    # Set Keys                          \n",
    "    # Set Parameters for API         \n",
    "    fs_url = \"https://api.foursquare.com/v3/places/search\"         \n",
    "    location = f'{long},{lat}'         \n",
    "    headers = {\n",
    "    \"Accept\": \"application/json\",\n",
    "    \"Authorization\": \"fsq3EWjrDVS7MmpNxPS2oYo9CdBphNOQ/lOuCT1N7N4xCzo=\"}\n",
    "    \n",
    "    fs_response = requests.request(\"GET\", fs_url, params={'ll':location,                                                   \n",
    "                                                      'radius':1000,                                                                                                      \n",
    "                                                      'query':query,                                                   \n",
    "                                                      \"sort\":\"DISTANCE\"},\n",
    "                                                  headers=headers) \n",
    "    \n",
    "    res_json = fs_response.json()\n",
    "    fs_df = pd.json_normalize(res_json)\n",
    "    return fs_df"
   ]
  },
  {
   "cell_type": "code",
   "execution_count": null,
   "metadata": {},
   "outputs": [],
   "source": [
    "response = foursquare_fetch(query=\"coffee\", long=\"51.2162206\", lat=\"4.421068612450207\")"
   ]
  },
  {
   "cell_type": "code",
   "execution_count": null,
   "metadata": {},
   "outputs": [],
   "source": [
    "coordinates = citybike_df[['longitude', \"latitude\"]] \n",
    "response_list = [] \n",
    "for every  in coordinates:     \n",
    "    #grab longitude, latitude as variables     \n",
    "    longitude = ['longtitude']     \n",
    "    latitude = ['latitude']     \n",
    "    response_list.append(foursquare_fetch(query=\"coffee\", long=longitude, lat=latitude)) \n",
    "total_df_fs = pd.concat(response_list)"
   ]
  }
 ],
 "metadata": {
  "kernelspec": {
   "display_name": "Python 3.11.0 64-bit",
   "language": "python",
   "name": "python3"
  },
  "language_info": {
   "codemirror_mode": {
    "name": "ipython",
    "version": 3
   },
   "file_extension": ".py",
   "mimetype": "text/x-python",
   "name": "python",
   "nbconvert_exporter": "python",
   "pygments_lexer": "ipython3",
   "version": "3.11.0"
  },
  "vscode": {
   "interpreter": {
    "hash": "aee8b7b246df8f9039afb4144a1f6fd8d2ca17a180786b69acc140d282b71a49"
   }
  }
 },
 "nbformat": 4,
 "nbformat_minor": 4
}
