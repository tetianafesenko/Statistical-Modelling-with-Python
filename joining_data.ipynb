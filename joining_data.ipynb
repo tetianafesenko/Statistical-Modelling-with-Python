{
 "cells": [
  {
   "cell_type": "markdown",
   "metadata": {},
   "source": [
    "Join the data from Part 1 with the data from Part 2 to create a new dataframe."
   ]
  },
  {
   "cell_type": "code",
   "execution_count": 3,
   "metadata": {},
   "outputs": [],
   "source": [
    "import requests # library to handle requests\n",
    "import pandas as pd # library for data analysis"
   ]
  },
  {
   "cell_type": "markdown",
   "metadata": {},
   "source": [
    "Provide a visualization that you used as part of your EDA process. Explain the initial pattern or relationship you discoved through this visualization. "
   ]
  },
  {
   "cell_type": "code",
   "execution_count": 4,
   "metadata": {},
   "outputs": [],
   "source": [
    "#FourSquare API Function  \n",
    "def citybike_fetch(query, long, lat):             \n",
    "    # Set Keys                          \n",
    "    # Set Parameters for API         \n",
    "    network_id = 'velo-antwerpen'\n",
    "    bike_url = (\"http://api.citybik.es/v2/networks/\"+network_id)       \n",
    "    location = f'{long},{lat}'         \n",
    "    headers = {\n",
    "    \"Accept\": \"application/json\",\n",
    "    \"Authorization\": \"fsq3EWjrDVS7MmpNxPS2oYo9CdBphNOQ/lOuCT1N7N4xCzo=\"}\n",
    "    \n",
    "    bike_response = requests.request(\"GET\", bike_url, params={'ll':location,                                                   \n",
    "                                                      'radius':1000,                                                                                                      \n",
    "                                                      'query':query,                                                   \n",
    "                                                      \"sort\":\"DISTANCE\"},\n",
    "                                                  headers=headers) \n",
    "    \n",
    "    res_json = bike_response.json()\n",
    "    citybike_df = pd.json_normalize(res_json)\n",
    "    return citybike_df"
   ]
  },
  {
   "cell_type": "code",
   "execution_count": 5,
   "metadata": {},
   "outputs": [],
   "source": [
    "response = citybike_fetch(query=\"coffee\", long=\"51.2162206\", lat=\"4.421068612450207\")"
   ]
  },
  {
   "cell_type": "markdown",
   "metadata": {},
   "source": [
    "# Database"
   ]
  },
  {
   "cell_type": "markdown",
   "metadata": {},
   "source": [
    "Put all your results in an SQLite3 database (remember, SQLite stores its databases as files in your local machine - make sure to create your database in your project's data/ directory!)"
   ]
  },
  {
   "cell_type": "code",
   "execution_count": null,
   "metadata": {},
   "outputs": [],
   "source": [
    "#Foursquare API"
   ]
  },
  {
   "cell_type": "markdown",
   "metadata": {},
   "source": [
    "Look at the data before and after the join to validate your data."
   ]
  },
  {
   "cell_type": "code",
   "execution_count": 6,
   "metadata": {},
   "outputs": [],
   "source": [
    "# FourSquare API Function  \n",
    "def foursquare_fetch(query, long, lat):             \n",
    "    # Set Keys                          \n",
    "    # Set Parameters for API         \n",
    "    fs_url = \"https://api.foursquare.com/v3/places/search\"         \n",
    "    location = f'{long},{lat}'         \n",
    "    headers = {\n",
    "    \"Accept\": \"application/json\",\n",
    "    \"Authorization\": \"fsq3EWjrDVS7MmpNxPS2oYo9CdBphNOQ/lOuCT1N7N4xCzo=\"}\n",
    "    \n",
    "    fs_response = requests.request(\"GET\", fs_url, params={'ll':location,                                                   \n",
    "                                                      'radius':1000,                                                                                                      \n",
    "                                                      'query':query,                                                   \n",
    "                                                      \"sort\":\"DISTANCE\"},\n",
    "                                                  headers=headers) \n",
    "    \n",
    "    res_json = fs_response.json()\n",
    "    fs_df = pd.json_normalize(res_json)\n",
    "    return fs_df"
   ]
  },
  {
   "cell_type": "code",
   "execution_count": 7,
   "metadata": {},
   "outputs": [],
   "source": [
    "response = foursquare_fetch(query=\"coffee\", long=\"51.2162206\", lat=\"4.421068612450207\")"
   ]
  },
  {
   "cell_type": "code",
   "execution_count": 8,
   "metadata": {},
   "outputs": [
    {
     "ename": "NameError",
     "evalue": "name 'citybike_df' is not defined",
     "output_type": "error",
     "traceback": [
      "\u001b[0;31m---------------------------------------------------------------------------\u001b[0m",
      "\u001b[0;31mNameError\u001b[0m                                 Traceback (most recent call last)",
      "\u001b[0;32m/var/folders/nf/rr1y3sz51_d8gbgc735ltjtc0000gn/T/ipykernel_48247/1825858079.py\u001b[0m in \u001b[0;36m<module>\u001b[0;34m\u001b[0m\n\u001b[0;32m----> 1\u001b[0;31m \u001b[0mcoordinates\u001b[0m \u001b[0;34m=\u001b[0m \u001b[0mcitybike_df\u001b[0m\u001b[0;34m[\u001b[0m\u001b[0;34m[\u001b[0m\u001b[0;34m'longitude'\u001b[0m\u001b[0;34m,\u001b[0m \u001b[0;34m\"latitude\"\u001b[0m\u001b[0;34m]\u001b[0m\u001b[0;34m]\u001b[0m\u001b[0;34m\u001b[0m\u001b[0;34m\u001b[0m\u001b[0m\n\u001b[0m\u001b[1;32m      2\u001b[0m \u001b[0mresponse_list\u001b[0m \u001b[0;34m=\u001b[0m \u001b[0;34m[\u001b[0m\u001b[0;34m]\u001b[0m\u001b[0;34m\u001b[0m\u001b[0;34m\u001b[0m\u001b[0m\n\u001b[1;32m      3\u001b[0m \u001b[0;32mfor\u001b[0m \u001b[0mevery\u001b[0m  \u001b[0;32min\u001b[0m \u001b[0mcoordinates\u001b[0m\u001b[0;34m:\u001b[0m\u001b[0;34m\u001b[0m\u001b[0;34m\u001b[0m\u001b[0m\n\u001b[1;32m      4\u001b[0m     \u001b[0;31m#grab longitude, latitude as variables\u001b[0m\u001b[0;34m\u001b[0m\u001b[0;34m\u001b[0m\u001b[0m\n\u001b[1;32m      5\u001b[0m     \u001b[0mlongitude\u001b[0m \u001b[0;34m=\u001b[0m \u001b[0;34m[\u001b[0m\u001b[0;34m'longtitude'\u001b[0m\u001b[0;34m]\u001b[0m\u001b[0;34m\u001b[0m\u001b[0;34m\u001b[0m\u001b[0m\n",
      "\u001b[0;31mNameError\u001b[0m: name 'citybike_df' is not defined"
     ]
    }
   ],
   "source": [
    "coordinates = citybike_df[['longitude', \"latitude\"]] \n",
    "response_list = [] \n",
    "for every  in coordinates:     \n",
    "    #grab longitude, latitude as variables     \n",
    "    longitude = ['longtitude']     \n",
    "    latitude = ['latitude']     \n",
    "    response_list.append(foursquare_fetch(query=\"coffee\", long=longitude, lat=latitude)) \n",
    "total_df_fs = pd.concat(response_list)"
   ]
  },
  {
   "cell_type": "code",
   "execution_count": null,
   "metadata": {},
   "outputs": [],
   "source": [
    "import pandas as pd\n",
    "import numpy as np\n",
    "import matplotlib.pyplot as plt\n",
    "import seaborn as sns"
   ]
  },
  {
   "cell_type": "code",
   "execution_count": null,
   "metadata": {},
   "outputs": [],
   "source": [
    "fsq_ylp_df = pd.merge(fs_df,yelp_df, how='outer') \n",
    "fsq_ylp_df"
   ]
  },
  {
   "cell_type": "code",
   "execution_count": null,
   "metadata": {},
   "outputs": [],
   "source": [
    "fsq_ylp_df.describe()\n",
    "sns.histplot(fsq_ylp_df['latitude'])"
   ]
  },
  {
   "cell_type": "code",
   "execution_count": null,
   "metadata": {},
   "outputs": [],
   "source": [
    "cormat = fsq_ylp_df.corr()\n",
    "top_corr_features = cormat.index[abs(cormat[\"latitude\"])>0.5]\n",
    "plt.figure(figsize=(10,10))\n",
    "g = sns.heatmap(fsq_ylp_df[top_corr_features].corr(),annot=True,cmap=\"RdYlGn_r\")"
   ]
  },
  {
   "cell_type": "code",
   "execution_count": null,
   "metadata": {},
   "outputs": [],
   "source": [
    "var=\"latitude\"\n",
    "data=fsq_ylp_df[['latitude',var]]\n",
    "data.plot.scatter(x=var, y='latitude', ylim=(0,800000))"
   ]
  },
  {
   "cell_type": "code",
   "execution_count": null,
   "metadata": {},
   "outputs": [],
   "source": [
    "#DATABASE JOIN"
   ]
  },
  {
   "cell_type": "code",
   "execution_count": null,
   "metadata": {},
   "outputs": [],
   "source": [
    "connection = create_connection(\"fsq_ylp.sqlite\")"
   ]
  },
  {
   "cell_type": "code",
   "execution_count": null,
   "metadata": {},
   "outputs": [],
   "source": [
    "# to define the function\n",
    "def execute_query(connection, query):\n",
    "    cursor = connection.cursor()\n",
    "    try:\n",
    "        cursor.execute(query)\n",
    "        connection.commit()\n",
    "        print(\"Query executed successfully\")\n",
    "    except Error as e:\n",
    "        print(f\"the error '{e}' occured\")\n",
    "        "
   ]
  },
  {
   "cell_type": "code",
   "execution_count": null,
   "metadata": {},
   "outputs": [],
   "source": [
    "# query for the table\n",
    "create_rating_table = \"\"\"\n",
    "CREATE TABLE IF NOT EXISTS latitude(\n",
    "        id VARCHAR(100) PRIMARY KEY AUTOINCREMENT,\n",
    "        name VARCHAR(25) NOT NULL,\n",
    "        distance DECIMAL,\n",
    "        rating DECIMAL);\"\"\""
   ]
  },
  {
   "cell_type": "code",
   "execution_count": null,
   "metadata": {},
   "outputs": [],
   "source": [
    "execute_query(connection, create_rating_table)"
   ]
  },
  {
   "cell_type": "code",
   "execution_count": null,
   "metadata": {},
   "outputs": [],
   "source": [
    "create_popularity_table = \"\"\"\n",
    "CREATE TABLE IF NOT EXISTs popularity(\n",
    "        id INTEGER PRIMARY KEY AUTOINCREMENT,\n",
    "        name TEXT NOT NULL,\n",
    "        distance DECIMAL,\n",
    "        popularity float,\n",
    "        FOREIGN KEY (distance) REFERENCES latitude(distance));\"\"\""
   ]
  },
  {
   "cell_type": "code",
   "execution_count": null,
   "metadata": {},
   "outputs": [],
   "source": [
    "execute_query(connection, create_popularity_table)"
   ]
  }
 ],
 "metadata": {
  "kernelspec": {
   "display_name": "Python 3 (ipykernel)",
   "language": "python",
   "name": "python3"
  },
  "language_info": {
   "codemirror_mode": {
    "name": "ipython",
    "version": 3
   },
   "file_extension": ".py",
   "mimetype": "text/x-python",
   "name": "python",
   "nbconvert_exporter": "python",
   "pygments_lexer": "ipython3",
   "version": "3.9.13"
  },
  "vscode": {
   "interpreter": {
    "hash": "aee8b7b246df8f9039afb4144a1f6fd8d2ca17a180786b69acc140d282b71a49"
   }
  }
 },
 "nbformat": 4,
 "nbformat_minor": 4
}
